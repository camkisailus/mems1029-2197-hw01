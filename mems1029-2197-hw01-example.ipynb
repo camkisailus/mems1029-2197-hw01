{
 "cells": [
  {
   "cell_type": "markdown",
   "metadata": {},
   "source": [
    "# MEMS 1029 - 2197: Homework 1 \n",
    "Author: Stephen Ludwick    \n",
    "Created: May 6, 2019  \n",
    "Last updated: May 8, 2019\n",
    "\n",
    "This skeleton of a document is intended to help you to get started with using\n",
    "Jupyter Notebooks in the preparation of your homework assignments.\n",
    "\n",
    "Reuse any parts that you would like, and post questions to the course\n",
    "Discussion Board."
   ]
  },
  {
   "cell_type": "markdown",
   "metadata": {},
   "source": [
    "## Consider a power transmitting countershaft with a gear reduction\n",
    "(based on question 3-73 in your text - copyrighted figure not included here)\n",
    "\n",
    "You are given a shaft, supported by two bearings, and carrying two gears.\n",
    "Gear $A$ receives power from another gear with force $F_A$ applied at a 20° pressure angle.\n",
    "The power is transmitted through the shaft and delivered through gear $B$.\n",
    "Gear $B$ transmits force to yet another gear with a force $F_B$ at a 25° pressure angle.\n",
    "\n",
    "*Given:*\n",
    "$F_A = 130\\,\\mathrm{kN}$, $d_A = 600\\,\\mathrm{mm}$, and $d_B = 300\\,\\mathrm{mm}$\n"
   ]
  },
  {
   "cell_type": "markdown",
   "metadata": {},
   "source": [
    "Begin by importing the relevant Python libraries.\n",
    "Matplotlib is a plotting package, and numpy is for scientific computing.\n",
    "The syntax for both is somewhat similar to the MATLAB language."
   ]
  },
  {
   "cell_type": "code",
   "execution_count": 4,
   "metadata": {},
   "outputs": [],
   "source": [
    "%matplotlib notebook\n",
    "import matplotlib.pyplot as plt\n",
    "import numpy as np"
   ]
  },
  {
   "cell_type": "markdown",
   "metadata": {},
   "source": [
    "Next, set the known input variables. I prefer to work in units of \"mks\" or meter-kilogram-second,\n",
    "but consistency is the most important factor.\n",
    "\n",
    "Notice that we call the value of $\\pi$  from the numpy library with the command `np.pi`,\n",
    "and that a pound or hashtag symbol denotes a comment."
   ]
  },
  {
   "cell_type": "code",
   "execution_count": 2,
   "metadata": {},
   "outputs": [],
   "source": [
    "F_A = 120e3   # N, force applied to gear A\n",
    "\n",
    "d_A = 0.600   # m, pitch diameter of gear A\n",
    "d_B = 0.300   # m, pitch diameter of gear B\n",
    "\n",
    "theta_A = 20.*(np.pi/180.)  # rad, pressure angle of gear A\n",
    "theta_B = 25.*(np.pi/180.)  # rad, pressure angle of gear B\n",
    "\n",
    "dist_OA = 0.400  # m, distance from the bearing at the origin to gear A \n",
    "dist_OB = 0.750  # m, distance from the bearing at the origin to gear B\n",
    "dist_OC = 1.050  # m, distance from the bearing at the origin to the bearing at C"
   ]
  },
  {
   "cell_type": "markdown",
   "metadata": {},
   "source": [
    "### (a) Determine the force on gear B\n",
    "\n",
    "The first part of the problem asks that we find the value of the force $F_B$\n",
    "when the shaft is in static equilibrium.\n",
    "We do this by setting the sum of the moments around the shaft axis (axis $x$)\n",
    "equal to zero,\n",
    "$$ \\Sigma M_x = (F_A \\cos \\theta_A ) (d_A / 2) - (F_B \\cos \\theta_B ) (d_B / 2) = 0,$$\n",
    "and solving algebraically for $F_B$ gives us\n",
    "$$ F_B = F_A \\cdot \\frac{d_A \\cos \\theta_A}{d_B \\cos \\theta_B}.$$\n",
    "\n",
    "Implement in code, and solve for the numerical value.\n",
    "\n",
    "Notice that a cosine is called with `np.cos(angle_in_radians)`,\n",
    "and that you can format the `print` statement to report the answer\n",
    "to an appropriate number of significant figures and in the requested units."
   ]
  },
  {
   "cell_type": "code",
   "execution_count": 5,
   "metadata": {},
   "outputs": [
    {
     "name": "stdout",
     "output_type": "stream",
     "text": [
      "The force acting on gear B is 248.84 kN\n"
     ]
    }
   ],
   "source": [
    "# (a) Determine the force on gear B\n",
    "F_B = (F_A*d_A*np.cos(theta_A))/(d_B*np.cos(theta_B))\n",
    "print('The force acting on gear B is {:.2f} kN'.format(F_B*1e-3))"
   ]
  },
  {
   "cell_type": "markdown",
   "metadata": {},
   "source": [
    "This a probably a good place to stop for now...give it a shot."
   ]
  }
 ],
 "metadata": {
  "kernelspec": {
   "display_name": "Python 3",
   "language": "python",
   "name": "python3"
  },
  "language_info": {
   "codemirror_mode": {
    "name": "ipython",
    "version": 3
   },
   "file_extension": ".py",
   "mimetype": "text/x-python",
   "name": "python",
   "nbconvert_exporter": "python",
   "pygments_lexer": "ipython3",
   "version": "3.7.2"
  },
  "latex_envs": {
   "LaTeX_envs_menu_present": true,
   "autoclose": false,
   "autocomplete": false,
   "bibliofile": "biblio.bib",
   "cite_by": "apalike",
   "current_citInitial": 1,
   "eqLabelWithNumbers": true,
   "eqNumInitial": 1,
   "hotkeys": {
    "equation": "Ctrl-E",
    "itemize": "Ctrl-I"
   },
   "labels_anchors": false,
   "latex_user_defs": false,
   "report_style_numbering": false,
   "user_envs_cfg": false
  }
 },
 "nbformat": 4,
 "nbformat_minor": 2
}
